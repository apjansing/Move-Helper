{
 "cells": [
  {
   "cell_type": "code",
   "execution_count": 139,
   "metadata": {},
   "outputs": [],
   "source": [
    "import os\n",
    "import csv\n",
    "import json\n",
    "import geopy as gp\n",
    "import numpy as np\n",
    "import pandas as pd\n",
    "import pymongo as pm\n",
    "from arcgis.gis import *\n",
    "from arcgis.geocoding import get_geocoders, batch_geocode\n"
   ]
  },
  {
   "cell_type": "code",
   "execution_count": 212,
   "metadata": {},
   "outputs": [
    {
     "name": "stdout",
     "output_type": "stream",
     "text": [
      "MaxBatchSize : 1000\n",
      "SuggestedBatchSize : 150\n"
     ]
    }
   ],
   "source": [
    "# code provided from https://developers.arcgis.com/python/guide/batch-geocoding/\n",
    "\n",
    "user_name = 'apjansing3141'\n",
    "password = 'NOT_MY_PASSWORD'\n",
    "my_gis = GIS('https://www.arcgis.com', user_name, password)\n",
    "geocoder = get_geocoders(my_gis)[0]\n",
    "                                 \n",
    "print(\"MaxBatchSize : \" + str(geocoder.properties.locatorProperties.MaxBatchSize))\n",
    "print(\"SuggestedBatchSize : \" + str(geocoder.properties.locatorProperties.SuggestedBatchSize))\n"
   ]
  },
  {
   "cell_type": "code",
   "execution_count": 3,
   "metadata": {},
   "outputs": [],
   "source": [
    "connection = pm.MongoClient()\n",
    "syr = connection.syr"
   ]
  },
  {
   "cell_type": "code",
   "execution_count": 4,
   "metadata": {},
   "outputs": [],
   "source": [
    "def readGeoJson(FILE_PATH):\n",
    "    with open(FILE_PATH, 'r') as f:\n",
    "        return json.load(f)"
   ]
  },
  {
   "cell_type": "code",
   "execution_count": 9,
   "metadata": {},
   "outputs": [],
   "source": [
    "def ingestGeoJsonFeatureToMongoDB(geojson, collection):\n",
    "    for feature in geojson['features']:\n",
    "        collection.insert_one(feature)"
   ]
  },
  {
   "cell_type": "code",
   "execution_count": 163,
   "metadata": {},
   "outputs": [],
   "source": [
    "directory = \"../../datasets/\""
   ]
  },
  {
   "cell_type": "code",
   "execution_count": 82,
   "metadata": {},
   "outputs": [],
   "source": [
    "def dfToCollection(df, collection):\n",
    "    records = json.loads(df.T.to_json()).values()\n",
    "    collection.insert(records)"
   ]
  },
  {
   "cell_type": "code",
   "execution_count": 120,
   "metadata": {
    "scrolled": true
   },
   "outputs": [],
   "source": [
    "def getLocs(Loc):\n",
    "    return np.array([ { \"type\": \"Point\", \"coordinates\": [ loc[0], loc[1] ] } for loc in np.array([Loc['X'], Loc['Y']]).T])\n"
   ]
  },
  {
   "cell_type": "code",
   "execution_count": 121,
   "metadata": {},
   "outputs": [
    {
     "name": "stderr",
     "output_type": "stream",
     "text": [
      "/anaconda3/lib/python3.6/site-packages/ipykernel_launcher.py:3: DeprecationWarning: insert is deprecated. Use insert_one or insert_many instead.\n",
      "  This is separate from the ipykernel package so we can avoid doing imports until\n"
     ]
    }
   ],
   "source": [
    "syr.code_violations.drop()\n",
    "code_violations = pd.read_csv(directory + \"Code_violations.csv\", sep=\",\", header=0, dtype=None, na_values=None)\n",
    "code_violations['location'] = getLocs(code_violations)\n",
    "syr.code_violations.create_index([(\"location\", \"2dsphere\")])\n",
    "dfToCollection(code_violations, syr.code_violations)"
   ]
  },
  {
   "cell_type": "code",
   "execution_count": 126,
   "metadata": {},
   "outputs": [
    {
     "name": "stderr",
     "output_type": "stream",
     "text": [
      "/anaconda3/lib/python3.6/site-packages/ipykernel_launcher.py:3: DeprecationWarning: insert is deprecated. Use insert_one or insert_many instead.\n",
      "  This is separate from the ipykernel package so we can avoid doing imports until\n"
     ]
    }
   ],
   "source": [
    "syr.lead_violations.drop()\n",
    "lead_violations = pd.read_csv(directory + \"Lead_Violation_Data.csv\", sep=\",\", header=0, dtype=None, na_values=None)\n",
    "lead_violations['location'] = getLocs(lead_violations)\n",
    "syr.lead_violations.create_index([(\"location\", \"2dsphere\")])\n",
    "dfToCollection(lead_violations, syr.lead_violations)"
   ]
  },
  {
   "cell_type": "code",
   "execution_count": 251,
   "metadata": {},
   "outputs": [
    {
     "name": "stderr",
     "output_type": "stream",
     "text": [
      "/anaconda3/lib/python3.6/site-packages/ipykernel_launcher.py:3: DeprecationWarning: insert is deprecated. Use insert_one or insert_many instead.\n",
      "  This is separate from the ipykernel package so we can avoid doing imports until\n"
     ]
    }
   ],
   "source": [
    "syr.water_services.drop()\n",
    "water_services = pd.read_csv(directory + \"Water_Services.csv\", sep=\",\", header=0, dtype=None, na_values=None)\n",
    "water_services['location'] = getLocs(water_services)\n",
    "syr.water_services.create_index([(\"location\", \"2dsphere\")])\n",
    "dfToCollection(water_services, syr.water_services)"
   ]
  },
  {
   "cell_type": "code",
   "execution_count": 252,
   "metadata": {},
   "outputs": [
    {
     "name": "stderr",
     "output_type": "stream",
     "text": [
      "/anaconda3/lib/python3.6/site-packages/ipykernel_launcher.py:3: DeprecationWarning: insert is deprecated. Use insert_one or insert_many instead.\n",
      "  This is separate from the ipykernel package so we can avoid doing imports until\n"
     ]
    }
   ],
   "source": [
    "syr.water_main_breaks.drop()\n",
    "water_main_breaks = pd.read_csv(directory + \"Water_Main_Breaks.csv\", sep=\",\", header=0, dtype=None, na_values=None)\n",
    "water_main_breaks['location'] = getLocs(water_main_breaks)\n",
    "syr.water_main_breaks.create_index([(\"location\", \"2dsphere\")])\n",
    "dfToCollection(water_main_breaks, syr.water_main_breaks)\n"
   ]
  },
  {
   "cell_type": "code",
   "execution_count": 133,
   "metadata": {},
   "outputs": [
    {
     "data": {
      "text/plain": [
       "{'ObjectId': 1,\n",
       " 'TNT_NAME': 'Northside',\n",
       " 'X': -76.1610040034,\n",
       " 'Y': 43.0712832611,\n",
       " '_id': ObjectId('5bde1b600921aa05cc548ce1'),\n",
       " 'case_number': 'L00477',\n",
       " 'case_open_date': '2018-08-09T00:00:00.000Z',\n",
       " 'case_status': 'Open',\n",
       " 'case_type': 'Lead Violations',\n",
       " 'identifier': '002.-19-18.0',\n",
       " 'lat': 43.0712832611,\n",
       " 'location': {'coordinates': [-76.1610040034, 43.0712832611], 'type': 'Point'},\n",
       " 'long': -76.1610040034,\n",
       " 'nature_of_complaint': 'Lead Paint Inspection/Health',\n",
       " 'neighborhood': 'Washington Square',\n",
       " 'property_address': '1106 Carbon St',\n",
       " 'property_id': '002.-19-18.0',\n",
       " 'property_owner_address': '313 E. Willow St ',\n",
       " 'property_owner_city': 'Syracuse',\n",
       " 'property_owner_name': 'Frank Canzano',\n",
       " 'property_owner_state': 'NY',\n",
       " 'property_owner_zip': '\"13203\"',\n",
       " 'property_zip': '\"13208\"',\n",
       " 'vacant_property': 'N'}"
      ]
     },
     "execution_count": 133,
     "metadata": {},
     "output_type": "execute_result"
    }
   ],
   "source": [
    "lead = syr.lead_violations.find().limit(1).next()\n",
    "near = {\"location\": {\"$near\": {\"$geometry\": lead['location'] } } }\n",
    "near = syr.code_violations.find(near).limit(1)\n",
    "lead\n"
   ]
  },
  {
   "cell_type": "code",
   "execution_count": 134,
   "metadata": {},
   "outputs": [
    {
     "data": {
      "text/plain": [
       "{'ObjectId': 811,\n",
       " 'TNT_NAME': 'Northside',\n",
       " 'X': -76.1610040034,\n",
       " 'Y': 43.0712832611,\n",
       " '_id': ObjectId('5bde1b2d0921aa05cc545a4a'),\n",
       " 'case_number': '2017-11140',\n",
       " 'case_open_date': '2017-05-02T00:00:00.000Z',\n",
       " 'case_type': 'Trash/Debris-Private, Occ',\n",
       " 'comply_by_date': '2017-05-17T00:00:00.000Z',\n",
       " 'inspector_id': 252,\n",
       " 'lat': 43.0712832611,\n",
       " 'location': {'coordinates': [-76.1610040034, 43.0712832611], 'type': 'Point'},\n",
       " 'long': -76.1610040034,\n",
       " 'owner_address': '313 E. Willow St ',\n",
       " 'owner_city': 'Syracuse',\n",
       " 'owner_state': 'NY',\n",
       " 'owner_zip': '\"13203\"',\n",
       " 'property_address': '1106 Carbon St',\n",
       " 'property_id': '002.-19-18.0',\n",
       " 'property_neighborhood': 'Washington Square',\n",
       " 'property_owner_name': 'Frank Canzano',\n",
       " 'property_zip': '\"13208\"',\n",
       " 'vacant_property': 'N',\n",
       " 'violation_date': '2017-05-02T00:00:00.000Z',\n",
       " 'violation_name': 'SPCC - Section 27-72 (e) -Trash & Debris',\n",
       " 'violation_status': 'Closed'}"
      ]
     },
     "execution_count": 134,
     "metadata": {},
     "output_type": "execute_result"
    }
   ],
   "source": [
    "near.next()"
   ]
  },
  {
   "cell_type": "code",
   "execution_count": 188,
   "metadata": {},
   "outputs": [],
   "source": [
    "weekly_part_1_crime = pd.read_csv(directory + \"Weekly_Part_1_Crime_Offenses_2018.csv\", sep=\",\", header=0, dtype=None, na_values=None)\n",
    "weekly_part_2_crime = pd.read_csv(directory + \"Weekly_Part_2_Crime_Offenses_2018.csv\", sep=\",\", header=0, dtype=None, na_values=None)\n"
   ]
  },
  {
   "cell_type": "code",
   "execution_count": 208,
   "metadata": {},
   "outputs": [],
   "source": [
    "crime_1_addresses = weekly_part_1_crime.values[:,4]\n",
    "crime_2_addresses = weekly_part_2_crime.values[:,4]"
   ]
  },
  {
   "cell_type": "code",
   "execution_count": 221,
   "metadata": {
    "scrolled": true
   },
   "outputs": [],
   "source": [
    "def batch_geocode_addresses(addresses, max_num_in_batch = 150):\n",
    "    i = 0\n",
    "    coordinates = []\n",
    "    while i <= len(addresses):\n",
    "        next_i = i+max_num_in_batch\n",
    "        if next_i < len(addresses):\n",
    "            A = addresses[i:i+max_num_in_batch]\n",
    "        else:\n",
    "            A = addresses[i:]\n",
    "        i = next_i\n",
    "        A = [a + \", Syracuse, NY\" for a in A]\n",
    "        coordinates += batch_geocode(A)\n",
    "    return coordinates"
   ]
  },
  {
   "cell_type": "code",
   "execution_count": 225,
   "metadata": {},
   "outputs": [
    {
     "data": {
      "text/plain": [
       "3634"
      ]
     },
     "execution_count": 225,
     "metadata": {},
     "output_type": "execute_result"
    }
   ],
   "source": [
    "# LINES COMMENTED OUT BECAUSE THEY ARE MONETARILY EXPENSIVE\n",
    "\n",
    "# coords = batch_geocode_addresses(crime_1_addresses)\n",
    "len(coords)\n",
    "\n",
    "# coords2 = batch_geocode_addresses(crime_2_addresses)\n",
    "len(coords2)"
   ]
  },
  {
   "cell_type": "code",
   "execution_count": 233,
   "metadata": {},
   "outputs": [
    {
     "data": {
      "text/plain": [
       "{'x': -76.15881953299998, 'y': 43.031716827000025}"
      ]
     },
     "execution_count": 233,
     "metadata": {},
     "output_type": "execute_result"
    }
   ],
   "source": [
    "coords2[0]['location']"
   ]
  },
  {
   "cell_type": "code",
   "execution_count": 234,
   "metadata": {},
   "outputs": [],
   "source": [
    "coords_1 = np.array([{ \"type\": \"Point\", \"coordinates\": [ loc['location']['x'], loc['location']['y'] ] } for loc in coords])\n",
    "coords2_1 = np.array([{ \"type\": \"Point\", \"coordinates\": [ loc['location']['x'], loc['location']['y'] ] } for loc in coords2])\n"
   ]
  },
  {
   "cell_type": "code",
   "execution_count": 235,
   "metadata": {},
   "outputs": [
    {
     "data": {
      "text/plain": [
       "array([{'type': 'Point', 'coordinates': [-76.13904932099996, 43.052123288000075]},\n",
       "       {'type': 'Point', 'coordinates': [-76.14701099999996, 43.05083154000005]},\n",
       "       {'type': 'Point', 'coordinates': [-76.14213465099994, 43.04533000200007]},\n",
       "       ...,\n",
       "       {'type': 'Point', 'coordinates': [-76.17424752999995, 43.06991330900007]},\n",
       "       {'type': 'Point', 'coordinates': [-76.10372816199998, 43.053524656000036]},\n",
       "       {'type': 'Point', 'coordinates': [-76.17424752999995, 43.06991330900007]}],\n",
       "      dtype=object)"
      ]
     },
     "execution_count": 235,
     "metadata": {},
     "output_type": "execute_result"
    }
   ],
   "source": [
    "coords_1"
   ]
  },
  {
   "cell_type": "code",
   "execution_count": 239,
   "metadata": {},
   "outputs": [],
   "source": [
    "weekly_part_1_crime['location'] = coords_1\n",
    "weekly_part_2_crime['location'] = coords2_1"
   ]
  },
  {
   "cell_type": "code",
   "execution_count": 247,
   "metadata": {},
   "outputs": [
    {
     "name": "stderr",
     "output_type": "stream",
     "text": [
      "/anaconda3/lib/python3.6/site-packages/ipykernel_launcher.py:3: DeprecationWarning: insert is deprecated. Use insert_one or insert_many instead.\n",
      "  This is separate from the ipykernel package so we can avoid doing imports until\n"
     ]
    }
   ],
   "source": [
    "syr.weekly_crime.create_index([(\"location\", \"2dsphere\")])\n",
    "dfToCollection(weekly_part_1_crime, syr.weekly_crime)\n",
    "dfToCollection(weekly_part_2_crime, syr.weekly_crime)"
   ]
  },
  {
   "cell_type": "code",
   "execution_count": 248,
   "metadata": {},
   "outputs": [
    {
     "data": {
      "text/plain": [
       "{'ADDRESS': '500 BURNET AV',\n",
       " 'Arrest': None,\n",
       " 'Attempt': None,\n",
       " 'CODE_DEFINED': 'LARCENY',\n",
       " 'DATE': '2017-03-28T04:00:00.000Z',\n",
       " 'DRNUMB': 18218804,\n",
       " 'FID': 1,\n",
       " 'LarcenyCode': 'All Other',\n",
       " 'TIMEEND': 700,\n",
       " 'TIMESTART': 700,\n",
       " '_id': ObjectId('5bde387e0921aa05cc552e2f'),\n",
       " 'location': {'coordinates': [-76.139049321, 43.052123288],\n",
       "  'spatialReference': {'wkid': 4326},\n",
       "  'type': 'Point'}}"
      ]
     },
     "execution_count": 248,
     "metadata": {},
     "output_type": "execute_result"
    }
   ],
   "source": [
    "lead = syr.weekly_crime.find().limit(1).next()\n",
    "near = {\"location\": {\"$near\": {\"$geometry\": lead['location'] } } }\n",
    "near = syr.code_violations.find(near).limit(1)\n",
    "lead\n"
   ]
  },
  {
   "cell_type": "code",
   "execution_count": 249,
   "metadata": {},
   "outputs": [
    {
     "data": {
      "text/plain": [
       "{'ObjectId': 5256,\n",
       " 'TNT_NAME': 'Northside',\n",
       " 'X': -76.1389442919,\n",
       " 'Y': 43.0528443064,\n",
       " '_id': ObjectId('5bde1b2d0921aa05cc547d98'),\n",
       " 'case_number': '2018-27219',\n",
       " 'case_open_date': '2018-09-04T00:00:00.000Z',\n",
       " 'case_type': 'Overgrowth: Private, Occ',\n",
       " 'comply_by_date': '2018-09-14T00:00:00.000Z',\n",
       " 'inspector_id': 259,\n",
       " 'lat': 43.0528443064,\n",
       " 'location': {'coordinates': [-76.1389442919, 43.0528443064], 'type': 'Point'},\n",
       " 'long': -76.1389442919,\n",
       " 'owner_address': '4403 Oak Orchard Rd ',\n",
       " 'owner_city': 'Clay',\n",
       " 'owner_state': 'NY',\n",
       " 'owner_zip': '\"13041\"',\n",
       " 'property_address': '210 Howard St',\n",
       " 'property_id': '030.-02-48.0',\n",
       " 'property_neighborhood': 'Hawley Green',\n",
       " 'property_owner_name': 'Gary Parker',\n",
       " 'property_zip': '\"13203\"',\n",
       " 'vacant_property': 'N',\n",
       " 'violation_date': '2018-09-06T00:00:00.000Z',\n",
       " 'violation_name': 'SPCC - Section 27-72 (f) - Overgrowth',\n",
       " 'violation_status': 'Closed'}"
      ]
     },
     "execution_count": 249,
     "metadata": {},
     "output_type": "execute_result"
    }
   ],
   "source": [
    "near.next()"
   ]
  },
  {
   "cell_type": "code",
   "execution_count": null,
   "metadata": {},
   "outputs": [],
   "source": []
  },
  {
   "cell_type": "code",
   "execution_count": null,
   "metadata": {},
   "outputs": [],
   "source": []
  },
  {
   "cell_type": "code",
   "execution_count": null,
   "metadata": {},
   "outputs": [],
   "source": []
  },
  {
   "cell_type": "code",
   "execution_count": null,
   "metadata": {},
   "outputs": [],
   "source": []
  },
  {
   "cell_type": "code",
   "execution_count": null,
   "metadata": {},
   "outputs": [],
   "source": []
  },
  {
   "cell_type": "code",
   "execution_count": null,
   "metadata": {},
   "outputs": [],
   "source": []
  },
  {
   "cell_type": "code",
   "execution_count": null,
   "metadata": {},
   "outputs": [],
   "source": []
  },
  {
   "cell_type": "code",
   "execution_count": null,
   "metadata": {},
   "outputs": [],
   "source": []
  },
  {
   "cell_type": "code",
   "execution_count": 213,
   "metadata": {},
   "outputs": [],
   "source": [
    "results = batch_geocode([\"500 Avery Lane, Rome, NY\"])"
   ]
  },
  {
   "cell_type": "code",
   "execution_count": 172,
   "metadata": {},
   "outputs": [
    {
     "data": {
      "application/vnd.jupyter.widget-view+json": {
       "model_id": "b2f687bf84044fb086a6226e864af7ce",
       "version_major": 2,
       "version_minor": 0
      },
      "text/html": [
       "<p>Failed to display Jupyter Widget of type <code>MapView</code>.</p>\n",
       "<p>\n",
       "  If you're reading this message in the Jupyter Notebook or JupyterLab Notebook, it may mean\n",
       "  that the widgets JavaScript is still loading. If this message persists, it\n",
       "  likely means that the widgets JavaScript library is either not installed or\n",
       "  not enabled. See the <a href=\"https://ipywidgets.readthedocs.io/en/stable/user_install.html\">Jupyter\n",
       "  Widgets Documentation</a> for setup instructions.\n",
       "</p>\n",
       "<p>\n",
       "  If you're reading this message in another frontend (for example, a static\n",
       "  rendering on GitHub or <a href=\"https://nbviewer.jupyter.org/\">NBViewer</a>),\n",
       "  it may mean that your frontend doesn't currently support widgets.\n",
       "</p>\n"
      ],
      "text/plain": [
       "MapView(layout=Layout(height='400px', width='100%'), zoom=9.0)"
      ]
     },
     "metadata": {},
     "output_type": "display_data"
    }
   ],
   "source": [
    "# if the maps don't show, run the following in your terminal\n",
    "# jupyter nbextension install --py --sys-prefix arcgis\n",
    "# jupyter nbextension enable --py --sys-prefix arcgis\n",
    "\n",
    "map = my_gis.map(results[0]['attributes']['City']+\",\"+results[0]['attributes']['RegionAbbr'], 9)\n",
    "map"
   ]
  },
  {
   "cell_type": "code",
   "execution_count": 246,
   "metadata": {},
   "outputs": [],
   "source": [
    "for i in range(200):\n",
    "    map.draw(coords[i])"
   ]
  },
  {
   "cell_type": "code",
   "execution_count": null,
   "metadata": {},
   "outputs": [],
   "source": []
  }
 ],
 "metadata": {
  "kernelspec": {
   "display_name": "Python 3",
   "language": "python",
   "name": "python3"
  },
  "language_info": {
   "codemirror_mode": {
    "name": "ipython",
    "version": 3
   },
   "file_extension": ".py",
   "mimetype": "text/x-python",
   "name": "python",
   "nbconvert_exporter": "python",
   "pygments_lexer": "ipython3",
   "version": "3.6.4"
  }
 },
 "nbformat": 4,
 "nbformat_minor": 2
}
